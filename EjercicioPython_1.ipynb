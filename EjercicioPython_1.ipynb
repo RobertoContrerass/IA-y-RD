{
  "nbformat": 4,
  "nbformat_minor": 0,
  "metadata": {
    "colab": {
      "provenance": [],
      "toc_visible": true
    },
    "kernelspec": {
      "name": "python3",
      "display_name": "Python 3"
    },
    "language_info": {
      "name": "python"
    }
  },
  "cells": [
    {
      "cell_type": "markdown",
      "source": [
        "          ** Ejercicios en Python. **\n",
        "**Nombre:** Angel Roberto Contreras Rodríguez.\n",
        "**Matrícula:** 1913853.    **Hora:** N1, N2, y N3."
      ],
      "metadata": {
        "id": "IDrvGCjV8WyQ"
      }
    },
    {
      "cell_type": "code",
      "source": [
        "name= input()\n",
        "if (name!='Ana'):\n",
        "  if (name!='Juan'):\n",
        "    if (name!='Pedro'):\n",
        "        print(\"Hola, \" + name)"
      ],
      "metadata": {
        "colab": {
          "base_uri": "https://localhost:8080/"
        },
        "id": "_6QRmtc5pQxu",
        "outputId": "7c982c0a-4467-48ec-8520-7153893865ab"
      },
      "execution_count": 79,
      "outputs": [
        {
          "output_type": "stream",
          "name": "stdout",
          "text": [
            "Angel\n",
            "Hola, Angel\n"
          ]
        }
      ]
    },
    {
      "cell_type": "code",
      "source": [
        "thislist = []\n",
        "n=int(input(\"Cuántas palabras quieres usar? \"))\n",
        "for i in range(n):\n",
        "  x=input()\n",
        "  thislist += [x]\n",
        "for i in reversed(thislist):\n",
        "  print(i)"
      ],
      "metadata": {
        "colab": {
          "base_uri": "https://localhost:8080/"
        },
        "id": "VdKkHEJSzwTy",
        "outputId": "b0a02079-f078-4e96-9d1c-7a7ef7ac85c9"
      },
      "execution_count": 147,
      "outputs": [
        {
          "output_type": "stream",
          "name": "stdout",
          "text": [
            "Cuántas palabras quieres usar? 3\n",
            "abogado\n",
            "doctor\n",
            "maestro\n",
            "maestro\n",
            "doctor\n",
            "abogado\n"
          ]
        }
      ]
    },
    {
      "cell_type": "code",
      "source": [
        "for x in range(int(input(\"Cuántos números de la serie de Fibonnaci quiere generar? \"))):\n",
        "    print(fib(x))"
      ],
      "metadata": {
        "colab": {
          "base_uri": "https://localhost:8080/"
        },
        "id": "45tihfkP5Mf3",
        "outputId": "6c7fd1e0-0bd6-4bae-c609-d54286f9fdaa"
      },
      "execution_count": 146,
      "outputs": [
        {
          "output_type": "stream",
          "name": "stdout",
          "text": [
            "Cuántos números de la serie de Fibonnaci quiere generar? 10\n",
            "0\n",
            "1\n",
            "1\n",
            "2\n",
            "3\n",
            "5\n",
            "8\n",
            "13\n",
            "21\n",
            "34\n"
          ]
        }
      ]
    }
  ]
}